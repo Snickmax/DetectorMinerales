{
 "cells": [
  {
   "cell_type": "markdown",
   "id": "0361a615",
   "metadata": {},
   "source": [
    "# Instrucciones de Instalación y Uso de Virtualenv"
   ]
  },
  {
   "cell_type": "markdown",
   "id": "b71e8b06",
   "metadata": {},
   "source": [
    "Todos los comandos deben hacerce en CMD"
   ]
  },
  {
   "cell_type": "markdown",
   "id": "41faff89",
   "metadata": {},
   "source": [
    "## 1. Instalar Virtualenv\n",
    "\n",
    "Si no tienes `virtualenv` instalado, puedes hacerlo ejecutando:"
   ]
  },
  {
   "cell_type": "code",
   "execution_count": null,
   "id": "5dc8f8ab",
   "metadata": {},
   "outputs": [],
   "source": [
    "# pip install virtualenv"
   ]
  },
  {
   "cell_type": "markdown",
   "id": "3b698508",
   "metadata": {},
   "source": [
    "## 2. Crear un Entorno Virtual\n",
    "\n",
    "Navega a la carpeta de tu proyecto y crea un entorno virtual llamado `venv`:\n"
   ]
  },
  {
   "cell_type": "code",
   "execution_count": null,
   "id": "00a33333",
   "metadata": {},
   "outputs": [],
   "source": [
    "# cd /ruta/a/ReconocimientoMinerales virtualenv venv"
   ]
  },
  {
   "cell_type": "markdown",
   "id": "4f4b27f7",
   "metadata": {},
   "source": [
    "## 3. Activar el Entorno Virtual\n",
    "\n",
    "- **En Windows**:"
   ]
  },
  {
   "cell_type": "code",
   "execution_count": null,
   "id": "7b2818a6",
   "metadata": {},
   "outputs": [],
   "source": [
    "# venv\\Scripts\\activate"
   ]
  },
  {
   "cell_type": "markdown",
   "id": "7e28bf8c",
   "metadata": {},
   "source": [
    "## 4. Instalar Dependencias\n",
    "\n",
    "Con el entorno virtual activo, instala las dependencias necesarias ejecutando:"
   ]
  },
  {
   "cell_type": "code",
   "execution_count": null,
   "id": "a3b339e5",
   "metadata": {},
   "outputs": [],
   "source": [
    "# pip install -r requirements.txt"
   ]
  },
  {
   "cell_type": "markdown",
   "id": "3fdff0d4",
   "metadata": {},
   "source": [
    "## 5. Desinstalar Dependencias\n",
    "\n",
    "Si necesitas desinstalar todas las dependencias del proyecto, ejecuta:"
   ]
  },
  {
   "cell_type": "code",
   "execution_count": null,
   "id": "6f795be4",
   "metadata": {},
   "outputs": [],
   "source": [
    "# pip uninstall -r requirements.txt -y"
   ]
  },
  {
   "cell_type": "markdown",
   "id": "47dc0445",
   "metadata": {},
   "source": [
    "## 6. Desactivar el Entorno Virtual\n",
    "\n",
    "Cuando hayas terminado de trabajar en tu proyecto, puedes desactivar el entorno virtual ejecutando:"
   ]
  },
  {
   "cell_type": "code",
   "execution_count": null,
   "id": "089547e7",
   "metadata": {},
   "outputs": [],
   "source": [
    "# deactivate"
   ]
  }
 ],
 "metadata": {
  "language_info": {
   "name": "python"
  }
 },
 "nbformat": 4,
 "nbformat_minor": 5
}
