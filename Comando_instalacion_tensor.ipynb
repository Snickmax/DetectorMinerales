{
 "cells": [
  {
   "cell_type": "markdown",
   "id": "0361a615",
   "metadata": {},
   "source": [
    "# Comando para instalacion de tensorflow y +"
   ]
  },
  {
   "cell_type": "markdown",
   "id": "b71e8b06",
   "metadata": {},
   "source": [
    "Todos los comandos deben hacerce en CMD"
   ]
  },
  {
   "cell_type": "markdown",
   "id": "41faff89",
   "metadata": {},
   "source": [
    "## Comando\n",
    "\n",
    "Ejecutar:"
   ]
  },
  {
   "cell_type": "code",
   "execution_count": null,
   "id": "5dc8f8ab",
   "metadata": {},
   "outputs": [],
   "source": [
    "# pip install tensorflow requests beautifulsoup4"
   ]
  }
 ],
 "metadata": {
  "language_info": {
   "name": "python"
  }
 },
 "nbformat": 4,
 "nbformat_minor": 5
}
